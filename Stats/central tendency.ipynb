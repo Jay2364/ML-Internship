{
 "cells": [
  {
   "cell_type": "code",
   "execution_count": 18,
   "id": "b1069824",
   "metadata": {},
   "outputs": [],
   "source": [
    "age = [43,12,64,23,29,56,29]"
   ]
  },
  {
   "cell_type": "code",
   "execution_count": 19,
   "id": "06ea19bc",
   "metadata": {},
   "outputs": [],
   "source": [
    "import numpy as np"
   ]
  },
  {
   "cell_type": "markdown",
   "id": "ad26a74e",
   "metadata": {},
   "source": [
    "## Mean"
   ]
  },
  {
   "cell_type": "code",
   "execution_count": 20,
   "id": "517616d4",
   "metadata": {},
   "outputs": [
    {
     "data": {
      "text/plain": [
       "36.57142857142857"
      ]
     },
     "execution_count": 20,
     "metadata": {},
     "output_type": "execute_result"
    }
   ],
   "source": [
    "np.mean(age)"
   ]
  },
  {
   "cell_type": "markdown",
   "id": "b764f529",
   "metadata": {},
   "source": [
    "## Median"
   ]
  },
  {
   "cell_type": "code",
   "execution_count": 21,
   "id": "83f24605",
   "metadata": {},
   "outputs": [
    {
     "data": {
      "text/plain": [
       "29.0"
      ]
     },
     "execution_count": 21,
     "metadata": {},
     "output_type": "execute_result"
    }
   ],
   "source": [
    "np.median(age)"
   ]
  },
  {
   "cell_type": "markdown",
   "id": "2b146615",
   "metadata": {},
   "source": [
    "## Mode"
   ]
  },
  {
   "cell_type": "code",
   "execution_count": 22,
   "id": "6f4aaae1",
   "metadata": {},
   "outputs": [],
   "source": [
    "from scipy import stats as sc"
   ]
  },
  {
   "cell_type": "code",
   "execution_count": 23,
   "id": "89441e86",
   "metadata": {},
   "outputs": [
    {
     "data": {
      "text/plain": [
       "ModeResult(mode=29, count=2)"
      ]
     },
     "execution_count": 23,
     "metadata": {},
     "output_type": "execute_result"
    }
   ],
   "source": [
    "sc.mode(age)"
   ]
  },
  {
   "cell_type": "code",
   "execution_count": 24,
   "id": "b7246448",
   "metadata": {},
   "outputs": [
    {
     "data": {
      "text/plain": [
       "29"
      ]
     },
     "execution_count": 24,
     "metadata": {},
     "output_type": "execute_result"
    }
   ],
   "source": [
    "sc.mode(age).mode"
   ]
  },
  {
   "cell_type": "code",
   "execution_count": 27,
   "id": "a6f185bd",
   "metadata": {},
   "outputs": [
    {
     "data": {
      "text/plain": [
       "2"
      ]
     },
     "execution_count": 27,
     "metadata": {},
     "output_type": "execute_result"
    }
   ],
   "source": [
    "sc.mode(age).count"
   ]
  },
  {
   "cell_type": "markdown",
   "id": "3648059f",
   "metadata": {},
   "source": [
    "## Statistics library"
   ]
  },
  {
   "cell_type": "code",
   "execution_count": 28,
   "id": "83d6efd5",
   "metadata": {},
   "outputs": [],
   "source": [
    "import statistics as st"
   ]
  },
  {
   "cell_type": "code",
   "execution_count": 29,
   "id": "22bee797",
   "metadata": {},
   "outputs": [
    {
     "data": {
      "text/plain": [
       "36.57142857142857"
      ]
     },
     "execution_count": 29,
     "metadata": {},
     "output_type": "execute_result"
    }
   ],
   "source": [
    "st.mean(age)"
   ]
  },
  {
   "cell_type": "code",
   "execution_count": 30,
   "id": "ebbcb665",
   "metadata": {},
   "outputs": [
    {
     "data": {
      "text/plain": [
       "29"
      ]
     },
     "execution_count": 30,
     "metadata": {},
     "output_type": "execute_result"
    }
   ],
   "source": [
    "st.mode(age)"
   ]
  },
  {
   "cell_type": "code",
   "execution_count": 31,
   "id": "c4b9489b",
   "metadata": {},
   "outputs": [
    {
     "data": {
      "text/plain": [
       "29"
      ]
     },
     "execution_count": 31,
     "metadata": {},
     "output_type": "execute_result"
    }
   ],
   "source": [
    "st.median(age)"
   ]
  },
  {
   "cell_type": "code",
   "execution_count": null,
   "id": "09cf4ab4",
   "metadata": {},
   "outputs": [],
   "source": []
  }
 ],
 "metadata": {
  "kernelspec": {
   "display_name": "Python 3 (ipykernel)",
   "language": "python",
   "name": "python3"
  },
  "language_info": {
   "codemirror_mode": {
    "name": "ipython",
    "version": 3
   },
   "file_extension": ".py",
   "mimetype": "text/x-python",
   "name": "python",
   "nbconvert_exporter": "python",
   "pygments_lexer": "ipython3",
   "version": "3.11.5"
  }
 },
 "nbformat": 4,
 "nbformat_minor": 5
}
