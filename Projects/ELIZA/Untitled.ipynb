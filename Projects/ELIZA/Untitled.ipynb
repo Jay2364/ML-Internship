{
 "cells": [
  {
   "cell_type": "code",
   "execution_count": 9,
   "id": "4ac1428d",
   "metadata": {},
   "outputs": [],
   "source": [
    "def echo_respond(message):\n",
    "    bot_message = \"I can hear you! You said: \" + message\n",
    "    return bot_message"
   ]
  },
  {
   "cell_type": "code",
   "execution_count": 10,
   "id": "dd61e861",
   "metadata": {},
   "outputs": [
    {
     "data": {
      "text/plain": [
       "'I can hear you! You said: Hello'"
      ]
     },
     "execution_count": 10,
     "metadata": {},
     "output_type": "execute_result"
    }
   ],
   "source": [
    "echo_respond(\"Hello\")"
   ]
  },
  {
   "cell_type": "code",
   "execution_count": 11,
   "id": "95d7517d",
   "metadata": {},
   "outputs": [
    {
     "name": "stdout",
     "output_type": "stream",
     "text": [
      "User: Hello bot\n",
      "Bot: I can hear you! You said: Hello bot\n"
     ]
    }
   ],
   "source": [
    "def send_message(message):\n",
    "    print(\"User: \" + message)\n",
    "    response = echo_respond(message)\n",
    "    print(\"Bot: \" + response)\n",
    "\n",
    "send_message(\"Hello bot\")"
   ]
  },
  {
   "cell_type": "code",
   "execution_count": 40,
   "id": "59573a78",
   "metadata": {},
   "outputs": [],
   "source": [
    "name = 'Greg'\n",
    "weather = 'cloudy'\n",
    "\n",
    "response = {\n",
    "    \"what's your name?\" : \"my name is {0}\".format(name),\n",
    "    \"what's today's weather?\" : \"the weather is {0}\".format(weather),\n",
    "    \"default\": \"default message\"\n",
    "}"
   ]
  },
  {
   "cell_type": "code",
   "execution_count": 41,
   "id": "b2bb7aa2",
   "metadata": {},
   "outputs": [],
   "source": [
    "def chitchat(message):\n",
    "    if message in response:\n",
    "        bot_message = response[message]\n",
    "    else:\n",
    "        bot_message = response['default']\n",
    "    return bot_message"
   ]
  },
  {
   "cell_type": "code",
   "execution_count": 48,
   "id": "c3fea2bf",
   "metadata": {},
   "outputs": [
    {
     "data": {
      "text/plain": [
       "'the weather is cloudy'"
      ]
     },
     "execution_count": 48,
     "metadata": {},
     "output_type": "execute_result"
    }
   ],
   "source": [
    "chitchat(\"what's today's weather?\")"
   ]
  },
  {
   "cell_type": "code",
   "execution_count": 49,
   "id": "afff3462",
   "metadata": {},
   "outputs": [],
   "source": [
    "responses = {\n",
    "  \"what's your name?\": [\n",
    "      \"my name is {0}\".format(name),\n",
    "      \"they call me {0}\".format(name),\n",
    "      \"I go by {0}\".format(name)\n",
    "   ],\n",
    "  \"what's today's weather?\": [\n",
    "      \"the weather is {0}\".format(weather),\n",
    "      \"it's {0} today\".format(weather)\n",
    "    ],\n",
    "  \"default\": [\"default message\"]\n",
    "}"
   ]
  },
  {
   "cell_type": "code",
   "execution_count": 50,
   "id": "ca871eaf",
   "metadata": {},
   "outputs": [],
   "source": [
    "import random\n",
    "\n",
    "def chitchat(message):\n",
    "    if message in responses:\n",
    "        bot_message = random.choice(responses[message])\n",
    "    else:\n",
    "        bot_message = responses['default']\n",
    "    return bot_message"
   ]
  },
  {
   "cell_type": "code",
   "execution_count": 62,
   "id": "414c0962",
   "metadata": {},
   "outputs": [
    {
     "data": {
      "text/plain": [
       "'they call me Greg'"
      ]
     },
     "execution_count": 62,
     "metadata": {},
     "output_type": "execute_result"
    }
   ],
   "source": [
    "chitchat(\"what's your name?\")"
   ]
  },
  {
   "cell_type": "markdown",
   "id": "6e0aba1f",
   "metadata": {},
   "source": [
    "# Recognize question or statement"
   ]
  },
  {
   "cell_type": "code",
   "execution_count": 67,
   "id": "4f02c197",
   "metadata": {},
   "outputs": [],
   "source": [
    "question = {\n",
    "  \"what's your name?\": [\n",
    "      \"my name is {0}\".format(name),\n",
    "      \"they call me {0}\".format(name),\n",
    "      \"I go by {0}\".format(name)\n",
    "   ],\n",
    "  \"what's today's weather?\": [\n",
    "      \"the weather is {0}\".format(weather),\n",
    "      \"it's {0} today\".format(weather)\n",
    "    ],\n",
    "  \"default\": [\"default message\"]\n",
    "}\n",
    "\n",
    "statement = [\n",
    "    \"That's great\", \"Keep doing what you love\", \"It's great to discover things you love to do\"\n",
    "    ]"
   ]
  },
  {
   "cell_type": "code",
   "execution_count": 68,
   "id": "e53535a8",
   "metadata": {},
   "outputs": [],
   "source": [
    "def respond(message):\n",
    "    if message.endswith('?'):\n",
    "        bot_message = random.choice(question[message])\n",
    "    else:\n",
    "        bot_message = random.choice(statement)\n",
    "    return bot_message"
   ]
  },
  {
   "cell_type": "code",
   "execution_count": 78,
   "id": "a6534249",
   "metadata": {},
   "outputs": [
    {
     "data": {
      "text/plain": [
       "'Keep doing what you love'"
      ]
     },
     "execution_count": 78,
     "metadata": {},
     "output_type": "execute_result"
    }
   ],
   "source": [
    "respond(\"I love building chatbots\")"
   ]
  },
  {
   "cell_type": "code",
   "execution_count": 80,
   "id": "3a4351b7",
   "metadata": {},
   "outputs": [
    {
     "data": {
      "text/plain": [
       "'they call me Greg'"
      ]
     },
     "execution_count": 80,
     "metadata": {},
     "output_type": "execute_result"
    }
   ],
   "source": [
    "respond(\"what's your name?\")"
   ]
  },
  {
   "cell_type": "code",
   "execution_count": 84,
   "id": "3e8a3829",
   "metadata": {},
   "outputs": [],
   "source": [
    "import tkinter as tk"
   ]
  },
  {
   "cell_type": "code",
   "execution_count": 85,
   "id": "74d780bb",
   "metadata": {},
   "outputs": [],
   "source": [
    "# GUI for chatbot\n",
    "def send_message():\n",
    "    user_message = user_input.get()\n",
    "    if user_message.strip():\n",
    "        chat_history.config(state=tk.NORMAL)\n",
    "        chat_history.insert(tk.END, f\"You: {user_message}\\n\")\n",
    "        bot_response = respond(user_message)\n",
    "        chat_history.insert(tk.END, f\"Bot: {bot_response}\\n\\n\")\n",
    "        chat_history.config(state=tk.DISABLED)\n",
    "        chat_history.see(tk.END)\n",
    "        user_input.delete(0, tk.END)"
   ]
  },
  {
   "cell_type": "code",
   "execution_count": 86,
   "id": "6289592c",
   "metadata": {},
   "outputs": [
    {
     "data": {
      "text/plain": [
       "''"
      ]
     },
     "execution_count": 86,
     "metadata": {},
     "output_type": "execute_result"
    }
   ],
   "source": [
    "# Create the main window\n",
    "root = tk.Tk()\n",
    "root.title(\"Chatbot\")\n"
   ]
  },
  {
   "cell_type": "code",
   "execution_count": 87,
   "id": "d3991d2a",
   "metadata": {},
   "outputs": [],
   "source": [
    "# Chat history display\n",
    "chat_history = tk.Text(root, height=20, width=50, state=tk.DISABLED, wrap=tk.WORD)\n",
    "chat_history.pack(pady=10)\n"
   ]
  },
  {
   "cell_type": "code",
   "execution_count": 88,
   "id": "2ed9df27",
   "metadata": {},
   "outputs": [],
   "source": [
    "# User input field\n",
    "user_input = tk.Entry(root, width=40)\n",
    "user_input.pack(pady=5, side=tk.LEFT, padx=10)\n"
   ]
  },
  {
   "cell_type": "code",
   "execution_count": 89,
   "id": "e44183b8",
   "metadata": {},
   "outputs": [],
   "source": [
    "# Send button\n",
    "send_button = tk.Button(root, text=\"Send\", command=send_message)\n",
    "send_button.pack(pady=5, side=tk.LEFT)\n",
    "\n"
   ]
  },
  {
   "cell_type": "code",
   "execution_count": 90,
   "id": "53c799bf",
   "metadata": {},
   "outputs": [
    {
     "name": "stderr",
     "output_type": "stream",
     "text": [
      "Exception in Tkinter callback\n",
      "Traceback (most recent call last):\n",
      "  File \"C:\\Users\\jivan\\anaconda3\\Lib\\tkinter\\__init__.py\", line 1948, in __call__\n",
      "    return self.func(*args)\n",
      "           ^^^^^^^^^^^^^^^^\n",
      "  File \"C:\\Users\\jivan\\AppData\\Local\\Temp\\ipykernel_60376\\1000481910.py\", line 7, in send_message\n",
      "    bot_response = respond(user_message)\n",
      "                   ^^^^^^^^^^^^^^^^^^^^^\n",
      "  File \"C:\\Users\\jivan\\AppData\\Local\\Temp\\ipykernel_60376\\3729372704.py\", line 3, in respond\n",
      "    bot_message = random.choice(question[message])\n",
      "                                ~~~~~~~~^^^^^^^^^\n",
      "KeyError: \"What's your name?\"\n"
     ]
    }
   ],
   "source": [
    "# Start the GUI loop\n",
    "root.mainloop()\n"
   ]
  },
  {
   "cell_type": "code",
   "execution_count": 91,
   "id": "3111b100",
   "metadata": {},
   "outputs": [
    {
     "name": "stdout",
     "output_type": "stream",
     "text": [
      "Requirement already satisfied: streamlit in c:\\users\\jivan\\anaconda3\\lib\\site-packages (1.39.0)\n",
      "Requirement already satisfied: altair<6,>=4.0 in c:\\users\\jivan\\anaconda3\\lib\\site-packages (from streamlit) (5.4.1)\n",
      "Requirement already satisfied: blinker<2,>=1.0.0 in c:\\users\\jivan\\anaconda3\\lib\\site-packages (from streamlit) (1.8.2)\n",
      "Requirement already satisfied: cachetools<6,>=4.0 in c:\\users\\jivan\\anaconda3\\lib\\site-packages (from streamlit) (5.5.0)\n",
      "Requirement already satisfied: click<9,>=7.0 in c:\\users\\jivan\\anaconda3\\lib\\site-packages (from streamlit) (8.0.4)\n",
      "Requirement already satisfied: numpy<3,>=1.20 in c:\\users\\jivan\\anaconda3\\lib\\site-packages (from streamlit) (1.24.3)\n",
      "Requirement already satisfied: packaging<25,>=20 in c:\\users\\jivan\\anaconda3\\lib\\site-packages (from streamlit) (23.1)\n",
      "Requirement already satisfied: pandas<3,>=1.4.0 in c:\\users\\jivan\\anaconda3\\lib\\site-packages (from streamlit) (2.0.3)\n",
      "Requirement already satisfied: pillow<11,>=7.1.0 in c:\\users\\jivan\\anaconda3\\lib\\site-packages (from streamlit) (10.2.0)\n",
      "Requirement already satisfied: protobuf<6,>=3.20 in c:\\users\\jivan\\anaconda3\\lib\\site-packages (from streamlit) (4.25.3)\n",
      "Requirement already satisfied: pyarrow>=7.0 in c:\\users\\jivan\\anaconda3\\lib\\site-packages (from streamlit) (11.0.0)\n",
      "Requirement already satisfied: requests<3,>=2.27 in c:\\users\\jivan\\anaconda3\\lib\\site-packages (from streamlit) (2.31.0)\n",
      "Requirement already satisfied: rich<14,>=10.14.0 in c:\\users\\jivan\\anaconda3\\lib\\site-packages (from streamlit) (13.7.1)\n",
      "Requirement already satisfied: tenacity<10,>=8.1.0 in c:\\users\\jivan\\anaconda3\\lib\\site-packages (from streamlit) (8.2.2)\n",
      "Requirement already satisfied: toml<2,>=0.10.1 in c:\\users\\jivan\\anaconda3\\lib\\site-packages (from streamlit) (0.10.2)\n",
      "Requirement already satisfied: typing-extensions<5,>=4.3.0 in c:\\users\\jivan\\anaconda3\\lib\\site-packages (from streamlit) (4.12.2)\n",
      "Requirement already satisfied: gitpython!=3.1.19,<4,>=3.0.7 in c:\\users\\jivan\\anaconda3\\lib\\site-packages (from streamlit) (3.1.43)\n",
      "Requirement already satisfied: pydeck<1,>=0.8.0b4 in c:\\users\\jivan\\anaconda3\\lib\\site-packages (from streamlit) (0.9.1)\n",
      "Requirement already satisfied: tornado<7,>=6.0.3 in c:\\users\\jivan\\anaconda3\\lib\\site-packages (from streamlit) (6.3.2)\n",
      "Requirement already satisfied: watchdog<6,>=2.1.5 in c:\\users\\jivan\\anaconda3\\lib\\site-packages (from streamlit) (2.1.6)\n",
      "Requirement already satisfied: jinja2 in c:\\users\\jivan\\anaconda3\\lib\\site-packages (from altair<6,>=4.0->streamlit) (3.1.2)\n",
      "Requirement already satisfied: jsonschema>=3.0 in c:\\users\\jivan\\anaconda3\\lib\\site-packages (from altair<6,>=4.0->streamlit) (4.17.3)\n",
      "Requirement already satisfied: narwhals>=1.5.2 in c:\\users\\jivan\\anaconda3\\lib\\site-packages (from altair<6,>=4.0->streamlit) (1.9.3)\n",
      "Requirement already satisfied: colorama in c:\\users\\jivan\\anaconda3\\lib\\site-packages (from click<9,>=7.0->streamlit) (0.4.6)\n",
      "Requirement already satisfied: gitdb<5,>=4.0.1 in c:\\users\\jivan\\anaconda3\\lib\\site-packages (from gitpython!=3.1.19,<4,>=3.0.7->streamlit) (4.0.11)\n",
      "Requirement already satisfied: python-dateutil>=2.8.2 in c:\\users\\jivan\\anaconda3\\lib\\site-packages (from pandas<3,>=1.4.0->streamlit) (2.8.2)\n",
      "Requirement already satisfied: pytz>=2020.1 in c:\\users\\jivan\\anaconda3\\lib\\site-packages (from pandas<3,>=1.4.0->streamlit) (2023.3.post1)\n",
      "Requirement already satisfied: tzdata>=2022.1 in c:\\users\\jivan\\anaconda3\\lib\\site-packages (from pandas<3,>=1.4.0->streamlit) (2023.3)\n",
      "Requirement already satisfied: charset-normalizer<4,>=2 in c:\\users\\jivan\\anaconda3\\lib\\site-packages (from requests<3,>=2.27->streamlit) (2.0.4)\n",
      "Requirement already satisfied: idna<4,>=2.5 in c:\\users\\jivan\\anaconda3\\lib\\site-packages (from requests<3,>=2.27->streamlit) (3.4)\n",
      "Requirement already satisfied: urllib3<3,>=1.21.1 in c:\\users\\jivan\\anaconda3\\lib\\site-packages (from requests<3,>=2.27->streamlit) (1.26.16)\n",
      "Requirement already satisfied: certifi>=2017.4.17 in c:\\users\\jivan\\anaconda3\\lib\\site-packages (from requests<3,>=2.27->streamlit) (2024.2.2)\n",
      "Requirement already satisfied: markdown-it-py>=2.2.0 in c:\\users\\jivan\\anaconda3\\lib\\site-packages (from rich<14,>=10.14.0->streamlit) (2.2.0)\n",
      "Requirement already satisfied: pygments<3.0.0,>=2.13.0 in c:\\users\\jivan\\anaconda3\\lib\\site-packages (from rich<14,>=10.14.0->streamlit) (2.15.1)\n",
      "Requirement already satisfied: smmap<6,>=3.0.1 in c:\\users\\jivan\\anaconda3\\lib\\site-packages (from gitdb<5,>=4.0.1->gitpython!=3.1.19,<4,>=3.0.7->streamlit) (5.0.1)\n",
      "Requirement already satisfied: MarkupSafe>=2.0 in c:\\users\\jivan\\anaconda3\\lib\\site-packages (from jinja2->altair<6,>=4.0->streamlit) (2.1.1)\n",
      "Requirement already satisfied: attrs>=17.4.0 in c:\\users\\jivan\\anaconda3\\lib\\site-packages (from jsonschema>=3.0->altair<6,>=4.0->streamlit) (22.1.0)\n",
      "Requirement already satisfied: pyrsistent!=0.17.0,!=0.17.1,!=0.17.2,>=0.14.0 in c:\\users\\jivan\\anaconda3\\lib\\site-packages (from jsonschema>=3.0->altair<6,>=4.0->streamlit) (0.18.0)\n",
      "Requirement already satisfied: mdurl~=0.1 in c:\\users\\jivan\\anaconda3\\lib\\site-packages (from markdown-it-py>=2.2.0->rich<14,>=10.14.0->streamlit) (0.1.0)\n",
      "Requirement already satisfied: six>=1.5 in c:\\users\\jivan\\anaconda3\\lib\\site-packages (from python-dateutil>=2.8.2->pandas<3,>=1.4.0->streamlit) (1.16.0)\n"
     ]
    }
   ],
   "source": [
    "!pip install streamlit"
   ]
  },
  {
   "cell_type": "code",
   "execution_count": 93,
   "id": "46f2e6f9",
   "metadata": {},
   "outputs": [
    {
     "name": "stderr",
     "output_type": "stream",
     "text": [
      "2025-01-16 11:50:52.294 Thread 'MainThread': missing ScriptRunContext! This warning can be ignored when running in bare mode.\n",
      "2025-01-16 11:50:52.295 Thread 'MainThread': missing ScriptRunContext! This warning can be ignored when running in bare mode.\n",
      "2025-01-16 11:50:52.296 Thread 'MainThread': missing ScriptRunContext! This warning can be ignored when running in bare mode.\n",
      "2025-01-16 11:50:52.297 Thread 'MainThread': missing ScriptRunContext! This warning can be ignored when running in bare mode.\n",
      "2025-01-16 11:50:52.298 Thread 'MainThread': missing ScriptRunContext! This warning can be ignored when running in bare mode.\n",
      "2025-01-16 11:50:52.298 Thread 'MainThread': missing ScriptRunContext! This warning can be ignored when running in bare mode.\n",
      "2025-01-16 11:50:52.299 Thread 'MainThread': missing ScriptRunContext! This warning can be ignored when running in bare mode.\n",
      "2025-01-16 11:50:52.300 Thread 'MainThread': missing ScriptRunContext! This warning can be ignored when running in bare mode.\n",
      "2025-01-16 11:50:52.300 Thread 'MainThread': missing ScriptRunContext! This warning can be ignored when running in bare mode.\n",
      "2025-01-16 11:50:52.302 Thread 'MainThread': missing ScriptRunContext! This warning can be ignored when running in bare mode.\n"
     ]
    }
   ],
   "source": [
    "import random\n",
    "import streamlit as st\n",
    "\n",
    "# Chatbot backend logic\n",
    "question = {\n",
    "    \"what's your name?\": [\n",
    "        \"my name is Chatbot\",\n",
    "        \"they call me Chatbot\",\n",
    "        \"I go by Chatbot\"\n",
    "    ],\n",
    "    \"what's today's weather?\": [\n",
    "        \"the weather is sunny\",\n",
    "        \"it's cloudy today\"\n",
    "    ],\n",
    "    \"default\": [\"I didn't understand that\"]\n",
    "}\n",
    "\n",
    "statement = [\n",
    "    \"That's great\", \"Keep doing what you love\", \"It's great to discover things you love to do\"\n",
    "]\n",
    "\n",
    "def respond(message):\n",
    "    if message.endswith('?'):\n",
    "        bot_message = random.choice(question.get(message.lower(), question[\"default\"]))\n",
    "    else:\n",
    "        bot_message = random.choice(statement)\n",
    "    return bot_message\n",
    "\n",
    "# Streamlit app\n",
    "st.title(\"Chatbot\")\n",
    "\n",
    "# Chat history management\n",
    "if \"chat_history\" not in st.session_state:\n",
    "    st.session_state.chat_history = []\n",
    "\n",
    "# Input area\n",
    "user_input = st.text_input(\"You: \", \"\")\n",
    "\n",
    "# Display chat history\n",
    "for message in st.session_state.chat_history:\n",
    "    st.write(message)\n",
    "\n",
    "# Process input and generate response\n",
    "if user_input:\n",
    "    st.session_state.chat_history.append(f\"You: {user_input}\")\n",
    "    bot_response = respond(user_input)\n",
    "    st.session_state.chat_history.append(f\"Bot: {bot_response}\")\n",
    "\n",
    "    # Clear the input field\n",
    "    st.experimental_rerun()\n"
   ]
  },
  {
   "cell_type": "code",
   "execution_count": 94,
   "id": "36f11e89",
   "metadata": {},
   "outputs": [
    {
     "ename": "SyntaxError",
     "evalue": "invalid syntax (3420233346.py, line 1)",
     "output_type": "error",
     "traceback": [
      "\u001b[1;36m  Cell \u001b[1;32mIn[94], line 1\u001b[1;36m\u001b[0m\n\u001b[1;33m    streamlit run chatbot_app.py\u001b[0m\n\u001b[1;37m              ^\u001b[0m\n\u001b[1;31mSyntaxError\u001b[0m\u001b[1;31m:\u001b[0m invalid syntax\n"
     ]
    }
   ],
   "source": [
    "streamlit run chatbot_app.py"
   ]
  },
  {
   "cell_type": "code",
   "execution_count": null,
   "id": "3ac4159d",
   "metadata": {},
   "outputs": [],
   "source": []
  }
 ],
 "metadata": {
  "kernelspec": {
   "display_name": "Python 3 (ipykernel)",
   "language": "python",
   "name": "python3"
  },
  "language_info": {
   "codemirror_mode": {
    "name": "ipython",
    "version": 3
   },
   "file_extension": ".py",
   "mimetype": "text/x-python",
   "name": "python",
   "nbconvert_exporter": "python",
   "pygments_lexer": "ipython3",
   "version": "3.11.5"
  }
 },
 "nbformat": 4,
 "nbformat_minor": 5
}
