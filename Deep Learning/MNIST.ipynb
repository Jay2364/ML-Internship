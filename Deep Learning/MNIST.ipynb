{
 "cells": [
  {
   "cell_type": "code",
   "execution_count": 19,
   "id": "00f89683",
   "metadata": {},
   "outputs": [],
   "source": [
    "from __future__ import absolute_import, division, print_function\n",
    "\n",
    "import tensorflow as tf\n",
    "import numpy as np"
   ]
  },
  {
   "cell_type": "code",
   "execution_count": 20,
   "id": "1ec469db",
   "metadata": {},
   "outputs": [],
   "source": [
    "# MNIST dataset parameters\n",
    "num_classes = 10 # total classes (0-9 digits)\n",
    "num_features = 784 # data features in our input (28*28 = 784)\n",
    "\n",
    "# Training parameters\n",
    "learning_rate = 0.001\n",
    "training_steps = 3000\n",
    "batch_size = 256\n",
    "display_step = 100\n",
    "\n",
    "# Neural Network parameters\n",
    "n_hidden_1 = 128 # 1st layer number of neurons\n",
    "n_hidden_2 = 256 # 2nd layer number of neurons"
   ]
  },
  {
   "cell_type": "code",
   "execution_count": 21,
   "id": "e2d36c76",
   "metadata": {},
   "outputs": [],
   "source": [
    "# Prepare MNIST data.\n",
    "\n",
    "# download the dataset\n",
    "\n",
    "from tensorflow.keras.datasets import mnist\n",
    "\n",
    "(x_train, y_train), (x_test, y_test) = mnist.load_data()\n",
    "\n",
    "# Convert to float32\n",
    "x_train, x_test = np.array(x_train, np.float32), np.array(x_test, np.float32)\n",
    "\n",
    "# Flatten images to 1-D vector of 784 features (28* 28)\n",
    "x_train, x_test = x_train.reshape([-1, num_features]), x_test.reshape([-1, num_features])\n",
    "\n",
    "# Normalize image values from [0, 255] ---> [0, 1]\n",
    "x_train, x_test = x_train / 255. , x_test / 255."
   ]
  },
  {
   "cell_type": "markdown",
   "id": "9963f74a",
   "metadata": {},
   "source": [
    "#### To shuffle data"
   ]
  },
  {
   "cell_type": "code",
   "execution_count": 22,
   "id": "ab3688da",
   "metadata": {},
   "outputs": [],
   "source": [
    "# Use tf.data API to shuffle and batch data\n",
    "\n",
    "train_data = tf.data.Dataset.from_tensor_slices((x_train, y_train))\n",
    "train_data = train_data.repeat().shuffle(5000).batch(batch_size).prefetch(1)"
   ]
  },
  {
   "cell_type": "code",
   "execution_count": 23,
   "id": "c73cb326",
   "metadata": {},
   "outputs": [],
   "source": [
    "# store layers weights and biases\n",
    "# A random number generator to intialize weights\n",
    "\n",
    "random_normal = tf.initializers.RandomNormal()\n",
    "\n",
    "weights = {\n",
    "    \"h1\": tf.Variable(random_normal([num_features, n_hidden_1])),\n",
    "    \"h2\": tf.Variable(random_normal([n_hidden_1, n_hidden_2])),\n",
    "    \"out\": tf.Variable(random_normal([n_hidden_2, num_classes]))\n",
    "}\n",
    "\n",
    "biases = {\n",
    "    \"b1\": tf.Variable(random_normal([n_hidden_1])),\n",
    "    \"b2\": tf.Variable(random_normal([n_hidden_2])),\n",
    "    \"out\": tf.Variable(random_normal([num_classes]))\n",
    "}"
   ]
  },
  {
   "cell_type": "code",
   "execution_count": 25,
   "id": "056d2263",
   "metadata": {},
   "outputs": [
    {
     "name": "stdout",
     "output_type": "stream",
     "text": [
      "Shape W_1:  (784, 128)\n",
      "Shape W_2:  (128, 256)\n",
      "Shape W_Out:  (256, 10)\n",
      "Shape B_1:  (128,)\n",
      "Shape B_2:  (256,)\n",
      "Shape B_Out:  (10,)\n"
     ]
    }
   ],
   "source": [
    "print(\"Shape W_1: \", weights[\"h1\"].shape)\n",
    "print(\"Shape W_2: \", weights[\"h2\"].shape)\n",
    "print(\"Shape W_Out: \", weights[\"out\"].shape)\n",
    "\n",
    "print(\"Shape B_1: \", biases[\"b1\"].shape)\n",
    "print(\"Shape B_2: \", biases[\"b2\"].shape)\n",
    "print(\"Shape B_Out: \", biases[\"out\"].shape)\n"
   ]
  },
  {
   "cell_type": "markdown",
   "id": "7a6efc21",
   "metadata": {},
   "source": [
    "### Create model"
   ]
  },
  {
   "cell_type": "code",
   "execution_count": 26,
   "id": "c9f4fcde",
   "metadata": {},
   "outputs": [],
   "source": [
    "# Create model\n",
    "\n",
    "def neural_net(x):\n",
    "  # Hidden fully connected layer with 128 neurons.\n",
    "  layer_1 = tf.add(tf.matmul(x, weights['h1']), biases['b1']) # Z1\n",
    "  # Apply sigmoid to layer_1 output for non-linearity\n",
    "  layer_1 = tf.nn.sigmoid(layer_1) # A1\n",
    "\n",
    "  # Hidden fully connected layer with 256 neurons.\n",
    "  layer_2 = tf.add(tf.matmul(layer_1, weights['h2']), biases['b2']) # Z2\n",
    "  # apply sigmoid to layer_2 output\n",
    "  layer_2 = tf.nn.sigmoid(layer_2) # A2\n",
    "\n",
    "  # Output fully connected layer with a neuron for each class --> 10\n",
    "  out_layer = tf.matmul(layer_2, weights['out']) + biases['out'] # Z3\n",
    "\n",
    "  # Apply softmax to normalize the logits to a probablity distribution\n",
    "  return tf.nn.softmax(out_layer)\n",
    "\n"
   ]
  },
  {
   "cell_type": "code",
   "execution_count": 27,
   "id": "9d32cff7",
   "metadata": {},
   "outputs": [],
   "source": [
    "# Cross-Entropy loss function\n",
    "def cross_entropy(y_pred, y_true):\n",
    "  # Encode label to a one hot vector\n",
    "  y_true = tf.one_hot(y_true, depth = num_classes)\n",
    "\n",
    "  # Clip predictions values to avoid log(0) error.\n",
    "\n",
    "  y_pred = tf.clip_by_value(y_pred, 1e-9, 1.)\n",
    "\n",
    "  # Compute cross-entropy loss\n",
    "\n",
    "  return tf.reduce_mean(-tf.reduce_sum(y_true * tf.math.log(y_pred)))\n",
    "\n",
    "# Accuracy metrics\n",
    "def accuracy(y_pred, y_true):\n",
    "  # Predicted class is the index of highest score in prediction vector( ie argmax)\n",
    "  correct_prediction = tf.equal(tf.argmax(y_pred, 1), tf.cast(y_true, tf.int64))\n",
    "  return tf.reduce_mean(tf.cast(correct_prediction, tf.float32), axis=-1)\n",
    "\n",
    "# Stochastic gradient descent optimizer\n",
    "optimizer = tf.optimizers.SGD(learning_rate)"
   ]
  },
  {
   "cell_type": "code",
   "execution_count": 28,
   "id": "bf7eb087",
   "metadata": {},
   "outputs": [],
   "source": [
    "# Optimizing process\n",
    "def run_optimization(x ,y):\n",
    "  # Wrap computation inside a GradientTape for automatic differentiation\n",
    "\n",
    "  with tf.GradientTape() as g:\n",
    "    pred = neural_net(x)\n",
    "    loss = cross_entropy(pred, y)\n",
    "\n",
    "  # Variable to update ie trainable variables during back propagation\n",
    "\n",
    "  trainable_variables = list(weights.values()) + list(biases.values())\n",
    "\n",
    "  #Compute graidents\n",
    "  gradients = g.gradient(loss, trainable_variables)\n",
    "\n",
    "  # Update W and b following gradients\n",
    "  optimizer.apply_gradients(zip(gradients, trainable_variables))\n"
   ]
  },
  {
   "cell_type": "code",
   "execution_count": 29,
   "id": "62c36134",
   "metadata": {},
   "outputs": [
    {
     "name": "stdout",
     "output_type": "stream",
     "text": [
      "step: 100, loss: 562.1680908203125, accuracy: 0.1640625\n",
      "step: 200, loss: 410.6884765625, accuracy: 0.578125\n",
      "step: 300, loss: 258.44091796875, accuracy: 0.73046875\n",
      "step: 400, loss: 182.953857421875, accuracy: 0.796875\n",
      "step: 500, loss: 132.50186157226562, accuracy: 0.859375\n",
      "step: 600, loss: 140.16445922851562, accuracy: 0.828125\n",
      "step: 700, loss: 105.21794128417969, accuracy: 0.875\n",
      "step: 800, loss: 115.20463562011719, accuracy: 0.87890625\n",
      "step: 900, loss: 125.50267028808594, accuracy: 0.83984375\n",
      "step: 1000, loss: 109.79513549804688, accuracy: 0.87890625\n",
      "step: 1100, loss: 73.10803985595703, accuracy: 0.9140625\n",
      "step: 1200, loss: 64.4562759399414, accuracy: 0.93359375\n",
      "step: 1300, loss: 63.310546875, accuracy: 0.91796875\n",
      "step: 1400, loss: 71.7698974609375, accuracy: 0.93359375\n",
      "step: 1500, loss: 107.74415588378906, accuracy: 0.8828125\n",
      "step: 1600, loss: 70.04397583007812, accuracy: 0.9140625\n",
      "step: 1700, loss: 75.74697875976562, accuracy: 0.91796875\n",
      "step: 1800, loss: 73.08412170410156, accuracy: 0.90234375\n",
      "step: 1900, loss: 79.26846313476562, accuracy: 0.921875\n",
      "step: 2000, loss: 46.5014762878418, accuracy: 0.94921875\n",
      "step: 2100, loss: 66.0990219116211, accuracy: 0.9140625\n",
      "step: 2200, loss: 78.5478744506836, accuracy: 0.92578125\n",
      "step: 2300, loss: 61.79853439331055, accuracy: 0.95703125\n",
      "step: 2400, loss: 65.84310913085938, accuracy: 0.9375\n",
      "step: 2500, loss: 62.11287307739258, accuracy: 0.90625\n",
      "step: 2600, loss: 61.56765365600586, accuracy: 0.92578125\n",
      "step: 2700, loss: 71.63894653320312, accuracy: 0.93359375\n",
      "step: 2800, loss: 44.20341873168945, accuracy: 0.9609375\n",
      "step: 2900, loss: 66.2613296508789, accuracy: 0.91796875\n",
      "step: 3000, loss: 64.34445190429688, accuracy: 0.9140625\n"
     ]
    }
   ],
   "source": [
    "# Run training for the give number of steps\n",
    "for step, (batch_x, batch_y) in enumerate(train_data.take(training_steps), 1):\n",
    "  # Run the optmizatoin top update W and b values after each batch\n",
    "  run_optimization(batch_x, batch_y)\n",
    "\n",
    "  if step % display_step == 0:\n",
    "    pred = neural_net(batch_x)\n",
    "    loss = cross_entropy(pred, batch_y)\n",
    "    acc = accuracy(pred, batch_y)\n",
    "\n",
    "    print(f\"step: {step}, loss: {loss}, accuracy: {acc}\")\n"
   ]
  },
  {
   "cell_type": "code",
   "execution_count": 30,
   "id": "faff6048",
   "metadata": {},
   "outputs": [
    {
     "name": "stdout",
     "output_type": "stream",
     "text": [
      "Test accuracy: 0.9351999759674072\n"
     ]
    }
   ],
   "source": [
    "# Test mode on validations set\n",
    "\n",
    "pred = neural_net(x_test)\n",
    "\n",
    "print(f\"Test accuracy: {accuracy(pred, y_test)}\")"
   ]
  },
  {
   "cell_type": "code",
   "execution_count": 31,
   "id": "53e9f9e5",
   "metadata": {},
   "outputs": [],
   "source": [
    "# Visual perdiction comparison\n",
    "\n",
    "import matplotlib.pyplot as plt"
   ]
  },
  {
   "cell_type": "code",
   "execution_count": 34,
   "id": "e5d4af21",
   "metadata": {},
   "outputs": [
    {
     "data": {
      "image/png": "[encoded data removed]",
      "text/plain": [
       "<Figure size 640x480 with 1 Axes>"
      ]
     },
     "metadata": {},
     "output_type": "display_data"
    },
    {
     "name": "stdout",
     "output_type": "stream",
     "text": [
      "Model prediction: 7\n"
     ]
    },
    {
     "data": {
      "image/png": "[encoded data removed]",
      "text/plain": [
       "<Figure size 640x480 with 1 Axes>"
      ]
     },
     "metadata": {},
     "output_type": "display_data"
    },
    {
     "name": "stdout",
     "output_type": "stream",
     "text": [
      "Model prediction: 2\n"
     ]
    },
    {
     "data": {
      "image/png": "[encoded data removed]",
      "text/plain": [
       "<Figure size 640x480 with 1 Axes>"
      ]
     },
     "metadata": {},
     "output_type": "display_data"
    },
    {
     "name": "stdout",
     "output_type": "stream",
     "text": [
      "Model prediction: 1\n"
     ]
    },
    {
     "data": {
      "image/png": "[encoded data removed]",
      "text/plain": [
       "<Figure size 640x480 with 1 Axes>"
      ]
     },
     "metadata": {},
     "output_type": "display_data"
    },
    {
     "name": "stdout",
     "output_type": "stream",
     "text": [
      "Model prediction: 0\n"
     ]
    },
    {
     "data": {
      "image/png": "[encoded data removed]",
      "text/plain": [
       "<Figure size 640x480 with 1 Axes>"
      ]
     },
     "metadata": {},
     "output_type": "display_data"
    },
    {
     "name": "stdout",
     "output_type": "stream",
     "text": [
      "Model prediction: 4\n"
     ]
    }
   ],
   "source": [
    "import matplotlib.pyplot as plt\n",
    "import numpy as np\n",
    "\n",
    "# Predict 5 images from the validation set\n",
    "n_images = 5\n",
    "\n",
    "test_images = x_test[:n_images]  # Shape = [5, 784]\n",
    "\n",
    "predictions = neural_net(test_images)  # Shape = [5, 10]\n",
    "\n",
    "# Display image and model prediction\n",
    "for i in range(n_images):\n",
    "    plt.imshow(np.reshape(test_images[i], [28, 28]), cmap='gray')\n",
    "    plt.show()\n",
    "    print(f\"Model prediction: {np.argmax(predictions.numpy()[i])}\")\n"
   ]
  },
  {
   "cell_type": "code",
   "execution_count": null,
   "id": "caba08c6",
   "metadata": {},
   "outputs": [],
   "source": []
  }
 ],
 "metadata": {
  "kernelspec": {
   "display_name": "Python 3 (ipykernel)",
   "language": "python",
   "name": "python3"
  },
  "language_info": {
   "codemirror_mode": {
    "name": "ipython",
    "version": 3
   },
   "file_extension": ".py",
   "mimetype": "text/x-python",
   "name": "python",
   "nbconvert_exporter": "python",
   "pygments_lexer": "ipython3",
   "version": "3.11.5"
  }
 },
 "nbformat": 4,
 "nbformat_minor": 5
}
